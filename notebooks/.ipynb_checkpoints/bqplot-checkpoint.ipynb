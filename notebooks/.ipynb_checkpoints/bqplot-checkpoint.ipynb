{
 "cells": [
  {
   "cell_type": "code",
   "execution_count": 2,
   "metadata": {},
   "outputs": [],
   "source": [
    "from bqplot import pyplot as plt\n",
    "import ipywidgets as widgets\n",
    "import numpy as np\n",
    "import matplotlib.pyplot as mplt\n",
    "%matplotlib inline"
   ]
  },
  {
   "cell_type": "code",
   "execution_count": 3,
   "metadata": {},
   "outputs": [],
   "source": [
    "# generate some fake \n",
    "n = 2000\n",
    "x = np.linspace(0.0, 10.0, n)\n",
    "np.random.seed(0)\n",
    "y = np.cumsum(np.random.randn(n)*10).astype(int)"
   ]
  },
  {
   "cell_type": "code",
   "execution_count": 4,
   "metadata": {},
   "outputs": [],
   "source": [
    "fig_hist = plt.figure( title='Histogram')\n",
    "hist = plt.hist(y, bins=25)"
   ]
  },
  {
   "cell_type": "code",
   "execution_count": 5,
   "metadata": {},
   "outputs": [],
   "source": [
    "hist.bins = 10;"
   ]
  },
  {
   "cell_type": "code",
   "execution_count": 6,
   "metadata": {},
   "outputs": [],
   "source": [
    "slider = widgets.IntSlider(description='Bins number', min=1, max=100, v_model=30)"
   ]
  },
  {
   "cell_type": "code",
   "execution_count": 7,
   "metadata": {
    "scrolled": false
   },
   "outputs": [
    {
     "data": {
      "application/vnd.jupyter.widget-view+json": {
       "model_id": "85fa996fc1d34ff78059ce2c0be6aa78",
       "version_major": 2,
       "version_minor": 0
      },
      "text/plain": [
       "GridspecLayout(children=(Figure(axes=[Axis(scale=LinearScale()), Axis(orientation='vertical', scale=LinearScal…"
      ]
     },
     "metadata": {},
     "output_type": "display_data"
    }
   ],
   "source": [
    "widgets.link((hist, 'bins'), (slider, 'value'))\n",
    "\n",
    "fig_lines = plt.figure( title='Line Chart')\n",
    "lines = plt.plot(x, y)\n",
    "\n",
    "fig_lines.layout.width = 'auto'\n",
    "fig_lines.layout.height = 'auto'\n",
    "fig_hist.layout.width = 'auto'\n",
    "fig_hist.layout.height = 'auto'\n",
    "\n",
    "grid_layout = widgets.GridspecLayout(5, 3)\n",
    "\n",
    "grid_layout[:2, :] = fig_lines\n",
    "grid_layout[2:4, :] = fig_hist\n",
    "grid_layout[4, 1] = slider\n",
    "\n",
    "grid_layout.layout.height = '1000px'\n",
    "\n",
    "grid_layout"
   ]
  },
  {
   "cell_type": "code",
   "execution_count": 8,
   "metadata": {},
   "outputs": [],
   "source": [
    "selector = plt.brush_int_selector()\n",
    "def update_range(*ignore):\n",
    "    if selector.selected is not None and len(selector.selected) == 2:\n",
    "        xmin, xmax = selector.selected\n",
    "        mask = (x > xmin) & (x < xmax)\n",
    "        hist.sample = y[mask]\n",
    "selector.observe(update_range, 'selected')        "
   ]
  },
  {
   "cell_type": "code",
   "execution_count": 9,
   "metadata": {},
   "outputs": [
    {
     "data": {
      "application/vnd.jupyter.widget-view+json": {
       "model_id": "16f9c4c54d55441bbc53b51f70ad85af",
       "version_major": 2,
       "version_minor": 0
      },
      "text/plain": [
       "interactive(children=(FloatSlider(value=-1.0, description='a', max=0.0, min=-1.0), FloatSlider(value=0.55, des…"
      ]
     },
     "metadata": {},
     "output_type": "display_data"
    }
   ],
   "source": [
    "def plot_func(a, f):\n",
    "    mplt.figure(2)\n",
    "    x = np.linspace(0, 2*np.pi, num=1000)\n",
    "    y = a*np.sin(1/f*x)\n",
    "    mplt.plot(x,y)\n",
    "    mplt.ylim(-1.1, 1.1)\n",
    "    mplt.title('a sin(f)')\n",
    "    mplt.show()\n",
    "\n",
    "interactive_plot = widgets.interactive(plot_func, a=(-1,0,0.1), f=(0.1, 1))\n",
    "output = interactive_plot.children[-1]\n",
    "output.layout.height = '300px'\n",
    "interactive_plot"
   ]
  },
  {
   "cell_type": "code",
   "execution_count": null,
   "metadata": {},
   "outputs": [],
   "source": []
  }
 ],
 "metadata": {
  "kernelspec": {
   "display_name": "Python 3 (ipykernel)",
   "language": "python",
   "name": "python3"
  },
  "language_info": {
   "codemirror_mode": {
    "name": "ipython",
    "version": 3
   },
   "file_extension": ".py",
   "mimetype": "text/x-python",
   "name": "python",
   "nbconvert_exporter": "python",
   "pygments_lexer": "ipython3",
   "version": "3.9.7"
  },
  "widgets": {
   "application/vnd.jupyter.widget-state+json": {
    "state": {},
    "version_major": 2,
    "version_minor": 0
   }
  }
 },
 "nbformat": 4,
 "nbformat_minor": 4
}
